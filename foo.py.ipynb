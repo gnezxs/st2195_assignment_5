def is_divisible_by_k(x, k):
    '''
    Checks whether x is divisible by k.
    '''
    return x % k == 0

# Store all the integers that are multiples of 2, 5, or 7 that are lower or equal to 1000 (excluding doubles)
x = []  # Initialize as a list

for i in range(1, 1001):  # Include numbers up to 1000
    if (is_divisible_by_k(i, 2) or is_divisible_by_k(i, 5) or is_divisible_by_k(i, 7)):
        x.append(i)

# Sum all the integers that are multiples of 2, 5, or 7 that are lower or equal to 1000 (excluding doubles)
result = sum(x)

print(result)

