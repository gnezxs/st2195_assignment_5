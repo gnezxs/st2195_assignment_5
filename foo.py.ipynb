{
 "cells": [
  {
   "cell_type": "code",
   "execution_count": 1,
   "id": "ff7c114e-96cf-454e-9fb3-e55894e11dc7",
   "metadata": {},
   "outputs": [
    {
     "ename": "IndentationError",
     "evalue": "expected an indented block after function definition on line 1 (827216718.py, line 2)",
     "output_type": "error",
     "traceback": [
      "\u001b[1;36m  Cell \u001b[1;32mIn[1], line 2\u001b[1;36m\u001b[0m\n\u001b[1;33m    '''\u001b[0m\n\u001b[1;37m    ^\u001b[0m\n\u001b[1;31mIndentationError\u001b[0m\u001b[1;31m:\u001b[0m expected an indented block after function definition on line 1\n"
     ]
    }
   ],
   "source": [
    "def is_divisible_by_k(x, k):\n",
    "'''\n",
    "Checks whether x is divisible by k.\n",
    "'''\n",
    "assert x%k == 0\n",
    "'''\n",
    "Store all the integers that are multiples of 2 or 5 or 7 that are lower\n",
    "or equal to 1000 (excluding doubles)\n",
    "'''\n",
    "x = ()\n",
    "for i in range(1000):\n",
    "if (is_divisible_by_k(x, 2) & is_divisible_by_k(x, 3)) |\n",
    "is_divisible_by_k(x, 7):\n",
    "x.append(i)\n",
    "'''\n",
    "Sum all the integers that are multiples of 2 or 5 or 7 that are lower\n",
    "or equal to 1000 (excluding doubles)\n",
    "'''\n",
    "sum(x)\n"
   ]
  },
  {
   "cell_type": "code",
   "execution_count": null,
   "id": "cc3eabed-7237-443f-a576-e70037faaa78",
   "metadata": {},
   "outputs": [],
   "source": []
  }
 ],
 "metadata": {
  "kernelspec": {
   "display_name": "Python 3 (ipykernel)",
   "language": "python",
   "name": "python3"
  },
  "language_info": {
   "codemirror_mode": {
    "name": "ipython",
    "version": 3
   },
   "file_extension": ".py",
   "mimetype": "text/x-python",
   "name": "python",
   "nbconvert_exporter": "python",
   "pygments_lexer": "ipython3",
   "version": "3.12.3"
  }
 },
 "nbformat": 4,
 "nbformat_minor": 5
}
