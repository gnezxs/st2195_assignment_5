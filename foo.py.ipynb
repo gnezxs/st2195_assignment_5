{
 "cells": [
  {
   "cell_type": "code",
   "execution_count": 3,
   "id": "ff7c114e-96cf-454e-9fb3-e55894e11dc7",
   "metadata": {},
   "outputs": [
    {
     "name": "stdout",
     "output_type": "stream",
     "text": [
      "328927\n"
     ]
    }
   ],
   "source": [
    "def is_divisible_by_k(x, k):\n",
    "    '''\n",
    "    Checks whether x is divisible by k.\n",
    "    '''\n",
    "    return x % k == 0\n",
    "\n",
    "# Store all the integers that are multiples of 2, 5, or 7 that are lower or equal to 1000 (excluding doubles)\n",
    "x = []  # Initialize as a list\n",
    "\n",
    "for i in range(1, 1001):  # Include numbers up to 1000\n",
    "    if (is_divisible_by_k(i, 2) or is_divisible_by_k(i, 5) or is_divisible_by_k(i, 7)):\n",
    "        x.append(i)\n",
    "\n",
    "# Sum all the integers that are multiples of 2, 5, or 7 that are lower or equal to 1000 (excluding doubles)\n",
    "result = sum(x)\n",
    "\n",
    "print(result)\n",
    "\n"
   ]
  },
  {
   "cell_type": "code",
   "execution_count": null,
   "id": "cc3eabed-7237-443f-a576-e70037faaa78",
   "metadata": {},
   "outputs": [],
   "source": []
  }
 ],
 "metadata": {
  "kernelspec": {
   "display_name": "Python 3 (ipykernel)",
   "language": "python",
   "name": "python3"
  },
  "language_info": {
   "codemirror_mode": {
    "name": "ipython",
    "version": 3
   },
   "file_extension": ".py",
   "mimetype": "text/x-python",
   "name": "python",
   "nbconvert_exporter": "python",
   "pygments_lexer": "ipython3",
   "version": "3.12.3"
  }
 },
 "nbformat": 4,
 "nbformat_minor": 5
}
